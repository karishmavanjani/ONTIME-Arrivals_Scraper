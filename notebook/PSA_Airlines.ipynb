{
 "cells": [
  {
   "cell_type": "code",
   "execution_count": null,
   "metadata": {
    "scrolled": true
   },
   "outputs": [],
   "source": [
    "import pandas as pd\n",
    "import re\n",
    "import sys\n",
    "from selenium import webdriver\n",
    "from selenium.webdriver.common.keys import Keys\n",
    "#from bs4 import BeautifulSoup\n",
    "import re\n",
    "import pandas as pd\n",
    "#from tabulate import tabulate\n",
    "import os\n",
    "#import chromedriver_binary\n",
    "from selenium.webdriver.support.ui import Select\n",
    "from selenium.common.exceptions import NoSuchElementException\n",
    "import numpy as np\n",
    "import datetime as dt\n",
    "from dateutil.parser import parse"
   ]
  },
  {
   "cell_type": "code",
   "execution_count": null,
   "metadata": {},
   "outputs": [],
   "source": [
    "AS= pd.read_csv('../data/PSA_Airlines.csv',skiprows=7)\n"
   ]
  },
  {
   "cell_type": "code",
   "execution_count": null,
   "metadata": {},
   "outputs": [],
   "source": [
    "df= pd.DataFrame(AS)\n",
    "print(len(df))"
   ]
  },
  {
   "cell_type": "code",
   "execution_count": null,
   "metadata": {},
   "outputs": [],
   "source": [
    "df.loc[df['Actual Arrival Time']=='00:00']"
   ]
  },
  {
   "cell_type": "code",
   "execution_count": null,
   "metadata": {},
   "outputs": [],
   "source": [
    "df= df.dropna(subset=['Scheduled Arrival Time','Actual Arrival Time'])\n",
    "df.head()"
   ]
  },
  {
   "cell_type": "code",
   "execution_count": null,
   "metadata": {},
   "outputs": [],
   "source": [
    "#Rename it to scheduled arrival date\n",
    "df.rename(columns = {'Date (MM/DD/YYYY)':'Scheduled Date'}, inplace = True) \n"
   ]
  },
  {
   "cell_type": "code",
   "execution_count": null,
   "metadata": {},
   "outputs": [],
   "source": [
    "df.head()"
   ]
  },
  {
   "cell_type": "code",
   "execution_count": null,
   "metadata": {},
   "outputs": [],
   "source": [
    "df['Scheduled Date']= pd.to_datetime(df['Scheduled Date'])\n",
    "type(df['Scheduled Date'][0])\n",
    "df"
   ]
  },
  {
   "cell_type": "code",
   "execution_count": null,
   "metadata": {},
   "outputs": [],
   "source": [
    "# Makea new column called actual arrival date \n",
    "df['Actual Arrival Date'] = df['Scheduled Date']\n",
    "df"
   ]
  },
  {
   "cell_type": "code",
   "execution_count": null,
   "metadata": {},
   "outputs": [],
   "source": [
    "df.loc[df['Actual Arrival Time']=='24:00']"
   ]
  },
  {
   "cell_type": "code",
   "execution_count": null,
   "metadata": {},
   "outputs": [],
   "source": [
    "df['Actual Arrival Time']= df['Actual Arrival Time'].str.replace('24:00','00:00')"
   ]
  },
  {
   "cell_type": "code",
   "execution_count": null,
   "metadata": {},
   "outputs": [],
   "source": [
    "df.loc[df['Actual Arrival Time']=='00:00']"
   ]
  },
  {
   "cell_type": "code",
   "execution_count": null,
   "metadata": {},
   "outputs": [],
   "source": [
    "df.loc[df['Actual Arrival Time']=='00:00','Actual Arrival Date']+=dt.timedelta(days=1)"
   ]
  },
  {
   "cell_type": "code",
   "execution_count": null,
   "metadata": {},
   "outputs": [],
   "source": [
    "df['Actual Arrival Date']= df['Actual Arrival Date'].dt.strftime('%Y-%m-%d')"
   ]
  },
  {
   "cell_type": "code",
   "execution_count": null,
   "metadata": {},
   "outputs": [],
   "source": [
    "df['Scheduled Date']= df['Scheduled Date'].dt.strftime('%Y-%m-%d')"
   ]
  },
  {
   "cell_type": "code",
   "execution_count": null,
   "metadata": {},
   "outputs": [],
   "source": [
    "df['Actual Arrival']=df['Actual Arrival Date'] + ' ' + df['Actual Arrival Time']"
   ]
  },
  {
   "cell_type": "code",
   "execution_count": null,
   "metadata": {},
   "outputs": [],
   "source": [
    "df['Scheduled Arrival']=df['Scheduled Date'] + ' ' + df['Scheduled Arrival Time']\n",
    "df"
   ]
  },
  {
   "cell_type": "code",
   "execution_count": null,
   "metadata": {},
   "outputs": [],
   "source": [
    "FMT = '%Y-%m-%d %H:%M'\n",
    "df['Scheduled Arrival']= pd.to_datetime(df['Scheduled Arrival'], format=FMT)\n",
    "df['Actual Arrival']= pd.to_datetime(df['Actual Arrival'], format=FMT)\n",
    "df"
   ]
  },
  {
   "cell_type": "code",
   "execution_count": null,
   "metadata": {},
   "outputs": [],
   "source": [
    "df['Difference']= (df['Scheduled Arrival']-df['Actual Arrival']).astype('timedelta64[m]')\n",
    "df"
   ]
  },
  {
   "cell_type": "code",
   "execution_count": null,
   "metadata": {},
   "outputs": [],
   "source": [
    "#Count number of flights with Scheduled Arrival Time higher than Actual Arrival or flights that arrived early in 2019\n",
    "Count_2019=df[df['Actual Arrival Date'].str.contains(\"2019\")]\n",
    "df19= pd.DataFrame(Count_2019)\n",
    "Total_19=len(df19)\n",
    "Twenty_Mins_Early_19= len(df19[df19['Difference'] > 20.0])\n",
    "Early_Arrivals_19= len(df19[df19['Difference'] > 0])\n",
    "print(\"Total Alaska Airlines flights that landed at JFK in 2019:\",Total_19)\n",
    "print(\"Flights that arrived early in 2019:\",Early_Arrivals_19)\n",
    "print(\"Flights that arrived more than 20 mins early in 2019:\",Twenty_Mins_Early_19)"
   ]
  },
  {
   "cell_type": "code",
   "execution_count": null,
   "metadata": {},
   "outputs": [],
   "source": [
    "#Count number of flights with Scheduled Arrival Time higher than Actual Arrival or flights that arrived early in 2018\n",
    "Count_2018=df[df['Actual Arrival Date'].str.contains(\"2018\")]\n",
    "df18= pd.DataFrame(Count_2018)\n",
    "Total_18=len(df18)\n",
    "Twenty_Mins_Early_18= len(df18[df18['Difference'] > 20.0])\n",
    "Early_Arrivals_18= len(df18[df18['Difference'] > 0])\n",
    "print(\"Total Alaska Airlines flights that landed at JFK in 2018:\",Total_18)\n",
    "print(\"Flights that arrived early in 2018:\",Early_Arrivals_18)\n",
    "print(\"Flights that arrived more than 20 mins early in 2018:\",Twenty_Mins_Early_18)"
   ]
  },
  {
   "cell_type": "code",
   "execution_count": null,
   "metadata": {},
   "outputs": [],
   "source": [
    "#Count number of flights with Scheduled Arrival Time higher than Actual Arrival or flights that arrived early in 2017\n",
    "Count_2017=df[df['Actual Arrival Date'].str.contains(\"2017\")]\n",
    "df17= pd.DataFrame(Count_2017)\n",
    "Total_17=len(df17)\n",
    "Twenty_Mins_Early_17= len(df17[df17['Difference'] > 20.0])\n",
    "Early_Arrivals_17= len(df17[df17['Difference'] > 0])\n",
    "print(\"Total Alaska Airlines flights that landed at JFK in 2017:\",Total_17)\n",
    "print(\"Flights that arrived early in 2017:\",Early_Arrivals_17)\n",
    "print(\"Flights that arrived more than 20 mins early in 2017:\",Twenty_Mins_Early_17)"
   ]
  },
  {
   "cell_type": "code",
   "execution_count": null,
   "metadata": {},
   "outputs": [],
   "source": [
    "#Count number of flights with Scheduled Arrival Time higher than Actual Arrival or flights that arrived early in 2016\n",
    "Count_2016=df[df['Actual Arrival Date'].str.contains(\"2016\")]\n",
    "df16= pd.DataFrame(Count_2016)\n",
    "Total_16=len(df16)\n",
    "Twenty_Mins_Early_16= len(df16[df16['Difference'] > 20.0])\n",
    "Early_Arrivals_16= len(df16[df16['Difference'] > 0])\n",
    "print(\"Total Alaska Airlines flights that landed at JFK in 2016:\",Total_16)\n",
    "print(\"Flights that arrived early in 2016:\",Early_Arrivals_16)\n",
    "print(\"Flights that arrived more than 20 mins early in 2016:\",Twenty_Mins_Early_16)"
   ]
  },
  {
   "cell_type": "code",
   "execution_count": null,
   "metadata": {},
   "outputs": [],
   "source": [
    "#Count number of flights with Scheduled Arrival Time higher than Actual Arrival or flights that arrived early in 2015\n",
    "Count_2015=df[df['Actual Arrival Date'].str.contains(\"2015\")]\n",
    "df15= pd.DataFrame(Count_2015)\n",
    "Total_15=len(df15)\n",
    "Twenty_Mins_Early_15= len(df15[df15['Difference'] > 20.0])\n",
    "Early_Arrivals_15= len(df15[df15['Difference'] > 0])\n",
    "print(\"Total Alaska Airlines flights that landed at JFK in 2015:\",Total_15)\n",
    "print(\"Flights that arrived early in 2015:\",Early_Arrivals_15)\n",
    "print(\"Flights that arrived more than 20 mins early in 2015:\",Twenty_Mins_Early_15)"
   ]
  },
  {
   "cell_type": "code",
   "execution_count": null,
   "metadata": {},
   "outputs": [],
   "source": [
    "\n",
    "\n",
    "# dictionary of lists  \n",
    " \n",
    "year =[\"2015\",\"2016\",\"2017\",\"2018\",\"2019\"]\n",
    "total_flights= [Total_15, Total_16, Total_17, Total_18, Total_19]\n",
    "early_arrival=[Early_Arrivals_15,Early_Arrivals_16,Early_Arrivals_17,Early_Arrivals_18,Early_Arrivals_19]\n",
    "inflated_padding=[Twenty_Mins_Early_15,Twenty_Mins_Early_16,Twenty_Mins_Early_17,Twenty_Mins_Early_18,Twenty_Mins_Early_19]\n",
    "\n",
    "dict = {'year': year, 'Total flights': total_flights, 'Early Arrivals': early_arrival, 'Inflated padding(>20mins early)': inflated_padding} \n",
    "df = pd.DataFrame(dict) \n",
    "  \n",
    "# saving the dataframe \n",
    "df.to_csv(r'../output/PSA_Airlines.csv',index=False) "
   ]
  }
 ],
 "metadata": {
  "kernelspec": {
   "display_name": "Python 3",
   "language": "python",
   "name": "python3"
  },
  "language_info": {
   "codemirror_mode": {
    "name": "ipython",
    "version": 3
   },
   "file_extension": ".py",
   "mimetype": "text/x-python",
   "name": "python",
   "nbconvert_exporter": "python",
   "pygments_lexer": "ipython3",
   "version": "3.7.2"
  }
 },
 "nbformat": 4,
 "nbformat_minor": 2
}
