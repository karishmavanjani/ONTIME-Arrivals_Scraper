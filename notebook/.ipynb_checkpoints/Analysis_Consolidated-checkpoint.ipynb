{
 "cells": [
  {
   "cell_type": "code",
   "execution_count": 3,
   "metadata": {
    "scrolled": true
   },
   "outputs": [
    {
     "ename": "ModuleNotFoundError",
     "evalue": "No module named 'selenium'",
     "output_type": "error",
     "traceback": [
      "\u001b[0;31m---------------------------------------------------------------------------\u001b[0m",
      "\u001b[0;31mModuleNotFoundError\u001b[0m                       Traceback (most recent call last)",
      "\u001b[0;32m<ipython-input-3-97f6228807b8>\u001b[0m in \u001b[0;36m<module>\u001b[0;34m\u001b[0m\n\u001b[1;32m      2\u001b[0m \u001b[0;32mimport\u001b[0m \u001b[0mre\u001b[0m\u001b[0;34m\u001b[0m\u001b[0;34m\u001b[0m\u001b[0m\n\u001b[1;32m      3\u001b[0m \u001b[0;32mimport\u001b[0m \u001b[0msys\u001b[0m\u001b[0;34m\u001b[0m\u001b[0;34m\u001b[0m\u001b[0m\n\u001b[0;32m----> 4\u001b[0;31m \u001b[0;32mfrom\u001b[0m \u001b[0mselenium\u001b[0m \u001b[0;32mimport\u001b[0m \u001b[0mwebdriver\u001b[0m\u001b[0;34m\u001b[0m\u001b[0;34m\u001b[0m\u001b[0m\n\u001b[0m\u001b[1;32m      5\u001b[0m \u001b[0;32mfrom\u001b[0m \u001b[0mselenium\u001b[0m\u001b[0;34m.\u001b[0m\u001b[0mwebdriver\u001b[0m\u001b[0;34m.\u001b[0m\u001b[0mcommon\u001b[0m\u001b[0;34m.\u001b[0m\u001b[0mkeys\u001b[0m \u001b[0;32mimport\u001b[0m \u001b[0mKeys\u001b[0m\u001b[0;34m\u001b[0m\u001b[0;34m\u001b[0m\u001b[0m\n\u001b[1;32m      6\u001b[0m \u001b[0;31m#from bs4 import BeautifulSoup\u001b[0m\u001b[0;34m\u001b[0m\u001b[0;34m\u001b[0m\u001b[0;34m\u001b[0m\u001b[0m\n",
      "\u001b[0;31mModuleNotFoundError\u001b[0m: No module named 'selenium'"
     ]
    }
   ],
   "source": [
    "import pandas as pd\n",
    "import re\n",
    "import sys\n",
    "from selenium import webdriver\n",
    "from selenium.webdriver.common.keys import Keys\n",
    "#from bs4 import BeautifulSoup\n",
    "import re\n",
    "import pandas as pd\n",
    "#from tabulate import tabulate\n",
    "import os\n",
    "#import chromedriver_binary\n",
    "import numpy as np\n",
    "import datetime as dt\n",
    "from dateutil.parser import parse"
   ]
  },
  {
   "cell_type": "code",
   "execution_count": null,
   "metadata": {},
   "outputs": [],
   "source": [
    "def analysis(input_fn,output_fn):\n",
    "    AS= pd.read_csv(input_fn,skiprows=7)\n",
    "    df= pd.DataFrame(AS)\n",
    "    print(len(df))\n",
    "    df.loc[df['Actual Arrival Time']=='00:00']\n",
    "    df= df.dropna(subset=['Scheduled Arrival Time','Actual Arrival Time'])\n",
    "    df.head()\n",
    "    #Rename it to scheduled arrival date\n",
    "    df.rename(columns = {'Date (MM/DD/YYYY)':'Scheduled Date'}, inplace = True) \n",
    "    df['Scheduled Date']= pd.to_datetime(df['Scheduled Date'])\n",
    "    type(df['Scheduled Date'][0])\n",
    "    # Makea new column called actual arrival date \n",
    "    df['Actual Arrival Date'] = df['Scheduled Date']\n",
    "    df['Actual Arrival Time']= df['Actual Arrival Time'].str.replace('24:00','00:00')\n",
    "    df['Scheduled Arrival Time']= df['Scheduled Arrival Time'].str.replace('24:00','00:00')\n",
    "    df.loc[df['Actual Arrival Time']=='00:00','Actual Arrival Date']+=dt.timedelta(days=1)\n",
    "    df.loc[df['Scheduled Arrival Time']=='00:00','Scheduled Date']+=dt.timedelta(days=1)\n",
    "    df['Actual Arrival Date']= df['Actual Arrival Date'].dt.strftime('%Y-%m-%d')\n",
    "    df['Scheduled Date']= df['Scheduled Date'].dt.strftime('%Y-%m-%d')\n",
    "    df['Actual Arrival']=df['Actual Arrival Date'] + ' ' + df['Actual Arrival Time']\n",
    "    df['Scheduled Arrival']=df['Scheduled Date'] + ' ' + df['Scheduled Arrival Time']\n",
    "    df.loc[df['Actual Arrival Time']=='00:00']\n",
    "    FMT = '%Y-%m-%d %H:%M'\n",
    "    df['Scheduled Arrival']= pd.to_datetime(df['Scheduled Arrival'], format=FMT)\n",
    "    df['Actual Arrival']= pd.to_datetime(df['Actual Arrival'], format=FMT)\n",
    "    df['Difference']= (df['Scheduled Arrival']-df['Actual Arrival']).astype('timedelta64[m]')\n",
    "    #Count number of flights with Scheduled Arrival Time higher than Actual Arrival or flights that arrived early in 2019\n",
    "    Count_2019=df[df['Actual Arrival Date'].str.contains(\"2019\")]\n",
    "    df19= pd.DataFrame(Count_2019)\n",
    "    Total_19=len(df19)\n",
    "    Twenty_Mins_Early_19= len(df19[df19['Difference'] > 20.0])\n",
    "    Early_Arrivals_19= len(df19[df19['Difference'] > 0])\n",
    "    print(\"Total Alaska Airlines flights that landed at JFK in 2019:\",Total_19)\n",
    "    print(\"Flights that arrived early in 2019:\",Early_Arrivals_19)\n",
    "    print(\"Flights that arrived more than 20 mins early in 2019:\",Twenty_Mins_Early_19)\n",
    "    #Count number of flights with Scheduled Arrival Time higher than Actual Arrival or flights that arrived early in 2018\n",
    "    Count_2018=df[df['Actual Arrival Date'].str.contains(\"2018\")]\n",
    "    df18= pd.DataFrame(Count_2018)\n",
    "    Total_18=len(df18)\n",
    "    Twenty_Mins_Early_18= len(df18[df18['Difference'] > 20.0])\n",
    "    Early_Arrivals_18= len(df18[df18['Difference'] > 0])\n",
    "    print(\"Total Alaska Airlines flights that landed at JFK in 2018:\",Total_18)\n",
    "    print(\"Flights that arrived early in 2018:\",Early_Arrivals_18)\n",
    "    print(\"Flights that arrived more than 20 mins early in 2018:\",Twenty_Mins_Early_18)\n",
    "    #Count number of flights with Scheduled Arrival Time higher than Actual Arrival or flights that arrived early in 2017\n",
    "    Count_2017=df[df['Actual Arrival Date'].str.contains(\"2017\")]\n",
    "    df17= pd.DataFrame(Count_2017)\n",
    "    Total_17=len(df17)\n",
    "    Twenty_Mins_Early_17= len(df17[df17['Difference'] > 20.0])\n",
    "    Early_Arrivals_17= len(df17[df17['Difference'] > 0])\n",
    "    print(\"Total Alaska Airlines flights that landed at JFK in 2017:\",Total_17)\n",
    "    print(\"Flights that arrived early in 2017:\",Early_Arrivals_17)\n",
    "    print(\"Flights that arrived more than 20 mins early in 2017:\",Twenty_Mins_Early_17)\n",
    "    #Count number of flights with Scheduled Arrival Time higher than Actual Arrival or flights that arrived early in 2016\n",
    "    Count_2016=df[df['Actual Arrival Date'].str.contains(\"2016\")]\n",
    "    df16= pd.DataFrame(Count_2016)\n",
    "    Total_16=len(df16)\n",
    "    Twenty_Mins_Early_16= len(df16[df16['Difference'] > 20.0])\n",
    "    Early_Arrivals_16= len(df16[df16['Difference'] > 0])\n",
    "    print(\"Total Alaska Airlines flights that landed at JFK in 2016:\",Total_16)\n",
    "    print(\"Flights that arrived early in 2016:\",Early_Arrivals_16)\n",
    "    print(\"Flights that arrived more than 20 mins early in 2016:\",Twenty_Mins_Early_16)\n",
    "    #Count number of flights with Scheduled Arrival Time higher than Actual Arrival or flights that arrived early in 2015\n",
    "    Count_2015=df[df['Actual Arrival Date'].str.contains(\"2015\")]\n",
    "    df15= pd.DataFrame(Count_2015)\n",
    "    Total_15=len(df15)\n",
    "    Twenty_Mins_Early_15= len(df15[df15['Difference'] > 20.0])\n",
    "    Early_Arrivals_15= len(df15[df15['Difference'] > 0])\n",
    "    print(\"Total Alaska Airlines flights that landed at JFK in 2015:\",Total_15)\n",
    "    print(\"Flights that arrived early in 2015:\",Early_Arrivals_15)\n",
    "    print(\"Flights that arrived more than 20 mins early in 2015:\",Twenty_Mins_Early_15)\n",
    "    \n",
    "\n",
    "    # dictionary of lists  \n",
    " \n",
    "    year =[\"2015\",\"2016\",\"2017\",\"2018\",\"2019\"]\n",
    "    total_flights= [Total_15, Total_16, Total_17, Total_18, Total_19]\n",
    "    early_arrival=[Early_Arrivals_15,Early_Arrivals_16,Early_Arrivals_17,Early_Arrivals_18,Early_Arrivals_19]\n",
    "    inflated_padding=[Twenty_Mins_Early_15,Twenty_Mins_Early_16,Twenty_Mins_Early_17,Twenty_Mins_Early_18,Twenty_Mins_Early_19]\n",
    "\n",
    "    Carrier_Code=df['Carrier Code'][:5]\n",
    "    dict = {'Carrier Code': Carrier_Code,'year': year, 'Total flights': total_flights, 'Early Arrivals': early_arrival, 'Inflated padding(>20mins early)': inflated_padding} \n",
    "    df = pd.DataFrame(dict) \n",
    "  \n",
    "    # saving the dataframe \n",
    "    df.to_csv(output_fn,index=False) "
   ]
  },
  {
   "cell_type": "code",
   "execution_count": 4,
   "metadata": {},
   "outputs": [
    {
     "name": "stdout",
     "output_type": "stream",
     "text": [
      "201423\n"
     ]
    },
    {
     "ename": "NameError",
     "evalue": "name 'dt' is not defined",
     "output_type": "error",
     "traceback": [
      "\u001b[0;31m---------------------------------------------------------------------------\u001b[0m",
      "\u001b[0;31mNameError\u001b[0m                                 Traceback (most recent call last)",
      "\u001b[0;32m<ipython-input-4-d2547c21c35a>\u001b[0m in \u001b[0;36m<module>\u001b[0;34m\u001b[0m\n\u001b[0;32m----> 1\u001b[0;31m \u001b[0manalysis\u001b[0m\u001b[0;34m(\u001b[0m\u001b[0;34m'../data/JetBlue_Airways.csv'\u001b[0m\u001b[0;34m,\u001b[0m\u001b[0;34mr'../output/JetBlue_Airways.csv'\u001b[0m\u001b[0;34m)\u001b[0m\u001b[0;34m\u001b[0m\u001b[0;34m\u001b[0m\u001b[0m\n\u001b[0m",
      "\u001b[0;32m<ipython-input-1-52a634375902>\u001b[0m in \u001b[0;36manalysis\u001b[0;34m(input_fn, output_fn)\u001b[0m\n\u001b[1;32m     14\u001b[0m     \u001b[0mdf\u001b[0m\u001b[0;34m[\u001b[0m\u001b[0;34m'Actual Arrival Time'\u001b[0m\u001b[0;34m]\u001b[0m\u001b[0;34m=\u001b[0m \u001b[0mdf\u001b[0m\u001b[0;34m[\u001b[0m\u001b[0;34m'Actual Arrival Time'\u001b[0m\u001b[0;34m]\u001b[0m\u001b[0;34m.\u001b[0m\u001b[0mstr\u001b[0m\u001b[0;34m.\u001b[0m\u001b[0mreplace\u001b[0m\u001b[0;34m(\u001b[0m\u001b[0;34m'24:00'\u001b[0m\u001b[0;34m,\u001b[0m\u001b[0;34m'00:00'\u001b[0m\u001b[0;34m)\u001b[0m\u001b[0;34m\u001b[0m\u001b[0;34m\u001b[0m\u001b[0m\n\u001b[1;32m     15\u001b[0m     \u001b[0mdf\u001b[0m\u001b[0;34m[\u001b[0m\u001b[0;34m'Scheduled Arrival Time'\u001b[0m\u001b[0;34m]\u001b[0m\u001b[0;34m=\u001b[0m \u001b[0mdf\u001b[0m\u001b[0;34m[\u001b[0m\u001b[0;34m'Scheduled Arrival Time'\u001b[0m\u001b[0;34m]\u001b[0m\u001b[0;34m.\u001b[0m\u001b[0mstr\u001b[0m\u001b[0;34m.\u001b[0m\u001b[0mreplace\u001b[0m\u001b[0;34m(\u001b[0m\u001b[0;34m'24:00'\u001b[0m\u001b[0;34m,\u001b[0m\u001b[0;34m'00:00'\u001b[0m\u001b[0;34m)\u001b[0m\u001b[0;34m\u001b[0m\u001b[0;34m\u001b[0m\u001b[0m\n\u001b[0;32m---> 16\u001b[0;31m     \u001b[0mdf\u001b[0m\u001b[0;34m.\u001b[0m\u001b[0mloc\u001b[0m\u001b[0;34m[\u001b[0m\u001b[0mdf\u001b[0m\u001b[0;34m[\u001b[0m\u001b[0;34m'Actual Arrival Time'\u001b[0m\u001b[0;34m]\u001b[0m\u001b[0;34m==\u001b[0m\u001b[0;34m'00:00'\u001b[0m\u001b[0;34m,\u001b[0m\u001b[0;34m'Actual Arrival Date'\u001b[0m\u001b[0;34m]\u001b[0m\u001b[0;34m+=\u001b[0m\u001b[0mdt\u001b[0m\u001b[0;34m.\u001b[0m\u001b[0mtimedelta\u001b[0m\u001b[0;34m(\u001b[0m\u001b[0mdays\u001b[0m\u001b[0;34m=\u001b[0m\u001b[0;36m1\u001b[0m\u001b[0;34m)\u001b[0m\u001b[0;34m\u001b[0m\u001b[0;34m\u001b[0m\u001b[0m\n\u001b[0m\u001b[1;32m     17\u001b[0m     \u001b[0mdf\u001b[0m\u001b[0;34m.\u001b[0m\u001b[0mloc\u001b[0m\u001b[0;34m[\u001b[0m\u001b[0mdf\u001b[0m\u001b[0;34m[\u001b[0m\u001b[0;34m'Scheduled Arrival Time'\u001b[0m\u001b[0;34m]\u001b[0m\u001b[0;34m==\u001b[0m\u001b[0;34m'00:00'\u001b[0m\u001b[0;34m,\u001b[0m\u001b[0;34m'Scheduled Date'\u001b[0m\u001b[0;34m]\u001b[0m\u001b[0;34m+=\u001b[0m\u001b[0mdt\u001b[0m\u001b[0;34m.\u001b[0m\u001b[0mtimedelta\u001b[0m\u001b[0;34m(\u001b[0m\u001b[0mdays\u001b[0m\u001b[0;34m=\u001b[0m\u001b[0;36m1\u001b[0m\u001b[0;34m)\u001b[0m\u001b[0;34m\u001b[0m\u001b[0;34m\u001b[0m\u001b[0m\n\u001b[1;32m     18\u001b[0m     \u001b[0mdf\u001b[0m\u001b[0;34m[\u001b[0m\u001b[0;34m'Actual Arrival Date'\u001b[0m\u001b[0;34m]\u001b[0m\u001b[0;34m=\u001b[0m \u001b[0mdf\u001b[0m\u001b[0;34m[\u001b[0m\u001b[0;34m'Actual Arrival Date'\u001b[0m\u001b[0;34m]\u001b[0m\u001b[0;34m.\u001b[0m\u001b[0mdt\u001b[0m\u001b[0;34m.\u001b[0m\u001b[0mstrftime\u001b[0m\u001b[0;34m(\u001b[0m\u001b[0;34m'%Y-%m-%d'\u001b[0m\u001b[0;34m)\u001b[0m\u001b[0;34m\u001b[0m\u001b[0;34m\u001b[0m\u001b[0m\n",
      "\u001b[0;31mNameError\u001b[0m: name 'dt' is not defined"
     ]
    }
   ],
   "source": [
    "analysis('../data/JetBlue_Airways.csv',r'../output/JetBlue_Airways.csv')"
   ]
  },
  {
   "cell_type": "code",
   "execution_count": null,
   "metadata": {},
   "outputs": [],
   "source": []
  }
 ],
 "metadata": {
  "kernelspec": {
   "display_name": "Python 3",
   "language": "python",
   "name": "python3"
  },
  "language_info": {
   "codemirror_mode": {
    "name": "ipython",
    "version": 3
   },
   "file_extension": ".py",
   "mimetype": "text/x-python",
   "name": "python",
   "nbconvert_exporter": "python",
   "pygments_lexer": "ipython3",
   "version": "3.7.2"
  }
 },
 "nbformat": 4,
 "nbformat_minor": 2
}
